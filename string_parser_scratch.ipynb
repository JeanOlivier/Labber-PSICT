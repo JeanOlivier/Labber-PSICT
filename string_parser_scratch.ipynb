{
 "cells": [
  {
   "cell_type": "code",
   "execution_count": 1,
   "metadata": {},
   "outputs": [],
   "source": [
    "### Scratchpad for pulse string input parser\n",
    "## Author: Sam Wolski"
   ]
  },
  {
   "cell_type": "code",
   "execution_count": 11,
   "metadata": {},
   "outputs": [],
   "source": [
    "import re"
   ]
  },
  {
   "cell_type": "code",
   "execution_count": 12,
   "metadata": {
    "collapsed": true
   },
   "outputs": [
    {
     "data": {
      "text/plain": [
       "'\\nDesired format:\\n\\npulse_params = [         \"s1 d3 g456 h3\", \\\\ # overall input params\\n        \"A1 W2 P3\", \\\\      # input pulse 1 params\\n        \"A1 W2 P3\", \\\\      # input pulse 2 params\\n        # etc.\\n    ]\\n\\n\\n'"
      ]
     },
     "execution_count": 12,
     "metadata": {},
     "output_type": "execute_result"
    }
   ],
   "source": [
    "'''\n",
    "Desired format:\n",
    "\n",
    "pulse_params = [ \\\n",
    "        \"s1 d3 g456 h3\", \\ # overall input params\n",
    "        \"A1 W2 P3\", \\      # input pulse 1 params\n",
    "        \"A1 W2 P3\", \\      # input pulse 2 params\n",
    "        # etc.\n",
    "    ]\n",
    "\n",
    "\n",
    "'''"
   ]
  },
  {
   "cell_type": "code",
   "execution_count": null,
   "metadata": {},
   "outputs": [],
   "source": []
  },
  {
   "cell_type": "code",
   "execution_count": 62,
   "metadata": {},
   "outputs": [
    {
     "name": "stdout",
     "output_type": "stream",
     "text": [
      "['A_12 W_4 P_36 A_46 W_13 P_5']\n",
      "[['A_12', 'W_4', 'P_36', 'A_46', 'W_13', 'P_5']]\n",
      "['A_12', 'W_4', 'P_36', 'A_46', 'W_13', 'P_5']\n",
      "['A_12', 'W_4', 'P_36', 'A_46', 'W_13', 'P_5']\n"
     ]
    }
   ],
   "source": [
    "# testing input string parsing\n",
    "foo_input = [\"A_12 W_4 P_36\", # this is a comment\n",
    "             \"A_46 W_13 P_5\"  # another comment describing this line\n",
    "            ]\n",
    "foo_input = [\" \".join(foo_input)]\n",
    "print(foo_input)\n",
    "print([xx.strip().split() for xx in foo_input])\n",
    "# print(foo_input.strip()) # error - can't strip or split list\n",
    "\n",
    "print([xx.strip().split() for xx in foo_input][0])\n",
    "foo_params = [xx.strip().split() for xx in foo_input][0]\n",
    "print(foo_params)"
   ]
  },
  {
   "cell_type": "code",
   "execution_count": 63,
   "metadata": {},
   "outputs": [
    {
     "name": "stdout",
     "output_type": "stream",
     "text": [
      "A_12\n",
      "_12\n",
      "_12\n"
     ]
    },
    {
     "ename": "ValueError",
     "evalue": "could not convert string to float: '_12'",
     "output_type": "error",
     "traceback": [
      "\u001b[0;31m---------------------------------------------------------------------------\u001b[0m",
      "\u001b[0;31mValueError\u001b[0m                                Traceback (most recent call last)",
      "\u001b[0;32m<ipython-input-63-92cb2fc6d7c1>\u001b[0m in \u001b[0;36m<module>\u001b[0;34m()\u001b[0m\n\u001b[1;32m      8\u001b[0m \u001b[0;34m\u001b[0m\u001b[0m\n\u001b[1;32m      9\u001b[0m \u001b[0;31m# attempt to parse the value as a float\u001b[0m\u001b[0;34m\u001b[0m\u001b[0;34m\u001b[0m\u001b[0m\n\u001b[0;32m---> 10\u001b[0;31m \u001b[0mbar_amp_val\u001b[0m \u001b[0;34m=\u001b[0m \u001b[0mfloat\u001b[0m\u001b[0;34m(\u001b[0m\u001b[0mfoo_amp_val\u001b[0m\u001b[0;34m)\u001b[0m\u001b[0;34m\u001b[0m\u001b[0m\n\u001b[0m\u001b[1;32m     11\u001b[0m \u001b[0mprint\u001b[0m\u001b[0;34m(\u001b[0m\u001b[0mbar_amp_val\u001b[0m\u001b[0;34m)\u001b[0m\u001b[0;34m\u001b[0m\u001b[0m\n\u001b[1;32m     12\u001b[0m \u001b[0mprint\u001b[0m\u001b[0;34m(\u001b[0m\u001b[0mtype\u001b[0m\u001b[0;34m(\u001b[0m\u001b[0mbar_amp_val\u001b[0m\u001b[0;34m)\u001b[0m\u001b[0;34m)\u001b[0m\u001b[0;34m\u001b[0m\u001b[0m\n",
      "\u001b[0;31mValueError\u001b[0m: could not convert string to float: '_12'"
     ]
    }
   ],
   "source": [
    "# parsing by letter - no separator\n",
    "\n",
    "foo_amp = foo_params[0]\n",
    "print(foo_amp)\n",
    "print(foo_amp[1:])\n",
    "foo_amp_val = foo_amp[1:]\n",
    "print(foo_amp_val)\n",
    "\n",
    "# attempt to parse the value as a float\n",
    "bar_amp_val = float(foo_amp_val)\n",
    "print(bar_amp_val)\n",
    "print(type(bar_amp_val))"
   ]
  },
  {
   "cell_type": "code",
   "execution_count": 64,
   "metadata": {},
   "outputs": [
    {
     "name": "stdout",
     "output_type": "stream",
     "text": [
      "A_12\n",
      "['A', '12']\n",
      "A\n",
      "12\n"
     ]
    }
   ],
   "source": [
    "# parsing by letter with underscore separator\n",
    "\n",
    "baz_amp = foo_params[0]\n",
    "print(baz_amp)\n",
    "print(baz_amp.split(\"_\"))\n",
    "quux_amp = baz_amp.split(\"_\")\n",
    "quux_amp_id = quux_amp[0]\n",
    "quux_amp_val = quux_amp[1]\n",
    "print(quux_amp_id)\n",
    "print(quux_amp_val)"
   ]
  },
  {
   "cell_type": "code",
   "execution_count": 65,
   "metadata": {},
   "outputs": [
    {
     "name": "stdout",
     "output_type": "stream",
     "text": [
      "['A_12', 'W_4', 'P_36', 'A_46', 'W_13', 'P_5']\n",
      "[('A', 12.0), ('W', 4.0), ('P', 36.0), ('A', 46.0), ('W', 13.0), ('P', 5.0)]\n"
     ]
    }
   ],
   "source": [
    "# create array and cycle through all parameter values\n",
    "print(foo_params)\n",
    "keyval_list = [(key,float(val)) for key, val in [xx.split(\"_\") for xx in foo_params]]\n",
    "# keyval_list = [(key,val) for key, val in keyval_list]\n",
    "# keyval_list = [[(key,val) for key,val in xx.split(\"_\")] for xx in foo_params]\n",
    "print(keyval_list)\n",
    "# keyval_dict = dict(keyval_list)\n",
    "# print(keyval_dict) # don't use dicts: creates rigidity in reordering"
   ]
  },
  {
   "cell_type": "code",
   "execution_count": 71,
   "metadata": {},
   "outputs": [],
   "source": [
    "## write a cheeky test function\n",
    "def inputstr_parse_test(input_str_list):\n",
    "    \n",
    "    # cat separate pulse strings, split into individual <param>_<value> strings\n",
    "    param_strings =  [xx.strip().split() for xx in [\" \".join(input_str_list)]][0]\n",
    "    print(param_strings)\n",
    "    \n",
    "    # convert list of strings into list of (<param>, <value>) tuples (no string parsing yet)\n",
    "    param_tuples = [(key, val) for key, val in [xx.split(\"_\") for xx in param_strings]]\n",
    "    print(param_tuples)"
   ]
  },
  {
   "cell_type": "code",
   "execution_count": 73,
   "metadata": {},
   "outputs": [
    {
     "name": "stdout",
     "output_type": "stream",
     "text": [
      "['sr_1E9', 'npts_10E3', 'delay_400', 'A_12', 'W_16', 'P_2', 'A_15', 'W_2', 'P_0']\n",
      "[('sr', '1E9'), ('npts', '10E3'), ('delay', '400'), ('A', '12'), ('W', '16'), ('P', '2'), ('A', '15'), ('W', '2'), ('P', '0')]\n"
     ]
    }
   ],
   "source": [
    "example_input_string = [\n",
    "        \"sr_1E9 npts_10E3 delay_400\", # overall config \n",
    "        \"A_12 W_16 P_2\",              # 1st pulse\n",
    "        \"A_15 W_2 P_0\",               # 2nd pulse\n",
    "    ]\n",
    "\n",
    "inputstr_parse_test(example_input_string)"
   ]
  },
  {
   "cell_type": "code",
   "execution_count": null,
   "metadata": {},
   "outputs": [],
   "source": []
  },
  {
   "cell_type": "code",
   "execution_count": null,
   "metadata": {},
   "outputs": [],
   "source": []
  }
 ],
 "metadata": {
  "kernelspec": {
   "display_name": "Python [conda env:python3]",
   "language": "python",
   "name": "conda-env-python3-py"
  },
  "language_info": {
   "codemirror_mode": {
    "name": "ipython",
    "version": 3
   },
   "file_extension": ".py",
   "mimetype": "text/x-python",
   "name": "python",
   "nbconvert_exporter": "python",
   "pygments_lexer": "ipython3",
   "version": "3.6.5"
  }
 },
 "nbformat": 4,
 "nbformat_minor": 2
}
